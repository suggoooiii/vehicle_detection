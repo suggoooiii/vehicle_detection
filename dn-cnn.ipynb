{
 "cells": [
  {
   "cell_type": "code",
   "execution_count": null,
   "metadata": {},
   "outputs": [
    {
     "name": "stdout",
     "output_type": "stream",
     "text": [
      "Epoch 1/50\n"
     ]
    },
    {
     "name": "stderr",
     "output_type": "stream",
     "text": [
      "2024-10-24 16:56:36.569807: I tensorflow/core/grappler/optimizers/custom_graph_optimizer_registry.cc:117] Plugin optimizer for device_type GPU is enabled.\n"
     ]
    },
    {
     "name": "stdout",
     "output_type": "stream",
     "text": [
      "\u001b[1m412/412\u001b[0m \u001b[32m━━━━━━━━━━━━━━━━━━━━\u001b[0m\u001b[37m\u001b[0m \u001b[1m184s\u001b[0m 417ms/step - loss: 0.0511 - val_loss: 0.0100\n",
      "Epoch 2/50\n",
      "\u001b[1m165/412\u001b[0m \u001b[32m━━━━━━━━\u001b[0m\u001b[37m━━━━━━━━━━━━\u001b[0m \u001b[1m1:59\u001b[0m 486ms/step - loss: 0.0038"
     ]
    }
   ],
   "source": [
    "import glob\n",
    "import os\n",
    "from skimage import io, img_as_float, color\n",
    "from skimage.util import random_noise\n",
    "import numpy as np\n",
    "from tensorflow.keras.layers import Conv2D, BatchNormalization, Activation, Input\n",
    "from tensorflow.keras.models import Model\n",
    "\n",
    "# Load and preprocess dataset\n",
    "def load_images_from_paths(paths):\n",
    "    images = []\n",
    "    for img_path in paths:\n",
    "        img = img_as_float(io.imread(img_path))\n",
    "        if img is not None:\n",
    "            gray_img = color.rgb2gray(img)\n",
    "            images.append(gray_img)\n",
    "    return np.array(images)\n",
    "\n",
    "def add_noise(images):\n",
    "    noisy_images = []\n",
    "    for img in images:\n",
    "        noisy_img = random_noise(img, mode='gaussian', var=0.01)\n",
    "        noisy_images.append(noisy_img)\n",
    "    return np.array(noisy_images)\n",
    "\n",
    "# Define DnCNN model\n",
    "def build_dncnn_model():\n",
    "    input_img = Input(shape=(None, None, 1))\n",
    "    x = Conv2D(64, (3, 3), padding='same')(input_img)\n",
    "    x = Activation('relu')(x)\n",
    "    for _ in range(15):\n",
    "        x = Conv2D(64, (3, 3), padding='same')(x)\n",
    "        x = BatchNormalization()(x)\n",
    "        x = Activation('relu')(x)\n",
    "    x = Conv2D(1, (3, 3), padding='same')(x)\n",
    "    model = Model(inputs=input_img, outputs=x)\n",
    "    return model\n",
    "\n",
    "# Get image paths\n",
    "vehicle_paths = sorted(glob.glob('./VehicleImage/vehicles/*/*.png'))\n",
    "nonvehicle_paths = sorted(glob.glob('./VehicleImage/non-vehicles/*/*.png'))\n",
    "\n",
    "# Load images\n",
    "vehicle_images = load_images_from_paths(vehicle_paths)\n",
    "nonvehicle_images = load_images_from_paths(nonvehicle_paths)\n",
    "\n",
    "# Combine and add noise to images\n",
    "all_images = np.concatenate((vehicle_images, nonvehicle_images), axis=0)\n",
    "all_images_noisy = add_noise(all_images)\n",
    "\n",
    "# Prepare training data\n",
    "x_train = np.expand_dims(all_images_noisy, axis=-1)\n",
    "y_train = np.expand_dims(all_images, axis=-1)\n",
    "\n",
    "# Build and compile model\n",
    "model = build_dncnn_model()\n",
    "model.compile(optimizer='adam', loss='mean_squared_error')\n",
    "\n",
    "# Train the model\n",
    "model.fit(x_train, y_train, epochs=50, batch_size=16, validation_split=0.1)\n",
    "\n",
    "# Save the model\n",
    "model.save('dncnn_model.h5')"
   ]
  }
 ],
 "metadata": {
  "kernelspec": {
   "display_name": "Python 3",
   "language": "python",
   "name": "python3"
  },
  "language_info": {
   "codemirror_mode": {
    "name": "ipython",
    "version": 3
   },
   "file_extension": ".py",
   "mimetype": "text/x-python",
   "name": "python",
   "nbconvert_exporter": "python",
   "pygments_lexer": "ipython3",
   "version": "3.9.6"
  }
 },
 "nbformat": 4,
 "nbformat_minor": 2
}
