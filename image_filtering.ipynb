{
 "cells": [
  {
   "cell_type": "markdown",
   "metadata": {},
   "source": [
    "# Filters\n",
    "- Enhancing an image\n",
    "- Emphasize or remove features\n",
    "- Smoothing\n",
    "- Sharpening\n",
    "- Edge detection"
   ]
  }
 ],
 "metadata": {
  "language_info": {
   "name": "python"
  }
 },
 "nbformat": 4,
 "nbformat_minor": 2
}
