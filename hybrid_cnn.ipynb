{
 "cells": [
  {
   "cell_type": "markdown",
   "metadata": {},
   "source": [
    "### Load and Preprocess Images"
   ]
  },
  {
   "cell_type": "code",
   "execution_count": 4,
   "metadata": {},
   "outputs": [],
   "source": [
    "# Set image dimensions\n",
    "IMG_WIDTH, IMG_HEIGHT = 64, 64\n",
    "\n",
    "# Load vehicle images and label them as 1\n",
    "vehicle_paths = sorted(glob.glob('./VehicleImage/vehicles/*/*.png'))\n",
    "vehicles = [cv2.resize(cv2.imread(img), (IMG_WIDTH, IMG_HEIGHT)) for img in vehicle_paths]\n",
    "vehicle_labels = [1] * len(vehicles)\n",
    "\n",
    "# Load non-vehicle images and label them as 0\n",
    "nonvehicle_paths = sorted(glob.glob('./VehicleImage/non-vehicles/*/*.png'))\n",
    "nonvehicles = [cv2.resize(cv2.imread(img), (IMG_WIDTH, IMG_HEIGHT)) for img in nonvehicle_paths]\n",
    "nonvehicle_labels = [0] * len(nonvehicles)\n",
    "\n",
    "# Combine data and labels\n",
    "X = np.array(vehicles + nonvehicles)\n",
    "y = np.array(vehicle_labels + nonvehicle_labels)"
   ]
  },
  {
   "cell_type": "markdown",
   "metadata": {},
   "source": [
    "### split the data"
   ]
  },
  {
   "cell_type": "code",
   "execution_count": 5,
   "metadata": {},
   "outputs": [],
   "source": [
    "from sklearn.model_selection import train_test_split\n",
    "\n",
    "# Initial split: Training and temporary set (combined validation + test)\n",
    "X_temp, X_test, y_temp, y_test = train_test_split(X, y, test_size=0.15, random_state=42, stratify=y)\n",
    "    \n",
    "# Second split: Validation and training\n",
    "X_train, X_val, y_train, y_val = train_test_split(X_temp, y_temp, test_size=0.1765, random_state=42, stratify=y_temp)\n",
    "# 0.1765 * 0.85 ~= 0.15, so we end up with 70% train, 15% val, 15% test\n",
    "\n",
    "# Normalize the images\n",
    "X_train, X_val, X_test = X_train / 255.0, X_val / 255.0, X_test / 255.0\n",
    "\n",
    "# Convert labels to categorical format\n",
    "y_train = to_categorical(y_train, num_classes=2)\n",
    "y_val = to_categorical(y_val, num_classes=2)\n",
    "y_test = to_categorical(y_test, num_classes=2)"
   ]
  },
  {
   "cell_type": "code",
   "execution_count": 6,
   "metadata": {},
   "outputs": [
    {
     "data": {
      "text/html": [
       "<pre style=\"white-space:pre;overflow-x:auto;line-height:normal;font-family:Menlo,'DejaVu Sans Mono',consolas,'Courier New',monospace\"><span style=\"font-weight: bold\">Model: \"functional_5\"</span>\n",
       "</pre>\n"
      ],
      "text/plain": [
       "\u001b[1mModel: \"functional_5\"\u001b[0m\n"
      ]
     },
     "metadata": {},
     "output_type": "display_data"
    },
    {
     "data": {
      "text/html": [
       "<pre style=\"white-space:pre;overflow-x:auto;line-height:normal;font-family:Menlo,'DejaVu Sans Mono',consolas,'Courier New',monospace\">┏━━━━━━━━━━━━━━━━━━━━━━━━━━━━━━━━━┳━━━━━━━━━━━━━━━━━━━━━━━━┳━━━━━━━━━━━━━━━┓\n",
       "┃<span style=\"font-weight: bold\"> Layer (type)                    </span>┃<span style=\"font-weight: bold\"> Output Shape           </span>┃<span style=\"font-weight: bold\">       Param # </span>┃\n",
       "┡━━━━━━━━━━━━━━━━━━━━━━━━━━━━━━━━━╇━━━━━━━━━━━━━━━━━━━━━━━━╇━━━━━━━━━━━━━━━┩\n",
       "│ input_layer_5 (<span style=\"color: #0087ff; text-decoration-color: #0087ff\">InputLayer</span>)      │ (<span style=\"color: #00d7ff; text-decoration-color: #00d7ff\">None</span>, <span style=\"color: #00af00; text-decoration-color: #00af00\">64</span>, <span style=\"color: #00af00; text-decoration-color: #00af00\">64</span>, <span style=\"color: #00af00; text-decoration-color: #00af00\">3</span>)      │             <span style=\"color: #00af00; text-decoration-color: #00af00\">0</span> │\n",
       "├─────────────────────────────────┼────────────────────────┼───────────────┤\n",
       "│ functional_3 (<span style=\"color: #0087ff; text-decoration-color: #0087ff\">Functional</span>)       │ (<span style=\"color: #00d7ff; text-decoration-color: #00d7ff\">None</span>, <span style=\"color: #00af00; text-decoration-color: #00af00\">64</span>, <span style=\"color: #00af00; text-decoration-color: #00af00\">64</span>, <span style=\"color: #00af00; text-decoration-color: #00af00\">3</span>)      │        <span style=\"color: #00af00; text-decoration-color: #00af00\">11,011</span> │\n",
       "├─────────────────────────────────┼────────────────────────┼───────────────┤\n",
       "│ functional_4 (<span style=\"color: #0087ff; text-decoration-color: #0087ff\">Functional</span>)       │ (<span style=\"color: #00d7ff; text-decoration-color: #00d7ff\">None</span>, <span style=\"color: #00af00; text-decoration-color: #00af00\">2</span>)              │     <span style=\"color: #00af00; text-decoration-color: #00af00\">3,287,298</span> │\n",
       "└─────────────────────────────────┴────────────────────────┴───────────────┘\n",
       "</pre>\n"
      ],
      "text/plain": [
       "┏━━━━━━━━━━━━━━━━━━━━━━━━━━━━━━━━━┳━━━━━━━━━━━━━━━━━━━━━━━━┳━━━━━━━━━━━━━━━┓\n",
       "┃\u001b[1m \u001b[0m\u001b[1mLayer (type)                   \u001b[0m\u001b[1m \u001b[0m┃\u001b[1m \u001b[0m\u001b[1mOutput Shape          \u001b[0m\u001b[1m \u001b[0m┃\u001b[1m \u001b[0m\u001b[1m      Param #\u001b[0m\u001b[1m \u001b[0m┃\n",
       "┡━━━━━━━━━━━━━━━━━━━━━━━━━━━━━━━━━╇━━━━━━━━━━━━━━━━━━━━━━━━╇━━━━━━━━━━━━━━━┩\n",
       "│ input_layer_5 (\u001b[38;5;33mInputLayer\u001b[0m)      │ (\u001b[38;5;45mNone\u001b[0m, \u001b[38;5;34m64\u001b[0m, \u001b[38;5;34m64\u001b[0m, \u001b[38;5;34m3\u001b[0m)      │             \u001b[38;5;34m0\u001b[0m │\n",
       "├─────────────────────────────────┼────────────────────────┼───────────────┤\n",
       "│ functional_3 (\u001b[38;5;33mFunctional\u001b[0m)       │ (\u001b[38;5;45mNone\u001b[0m, \u001b[38;5;34m64\u001b[0m, \u001b[38;5;34m64\u001b[0m, \u001b[38;5;34m3\u001b[0m)      │        \u001b[38;5;34m11,011\u001b[0m │\n",
       "├─────────────────────────────────┼────────────────────────┼───────────────┤\n",
       "│ functional_4 (\u001b[38;5;33mFunctional\u001b[0m)       │ (\u001b[38;5;45mNone\u001b[0m, \u001b[38;5;34m2\u001b[0m)              │     \u001b[38;5;34m3,287,298\u001b[0m │\n",
       "└─────────────────────────────────┴────────────────────────┴───────────────┘\n"
      ]
     },
     "metadata": {},
     "output_type": "display_data"
    },
    {
     "data": {
      "text/html": [
       "<pre style=\"white-space:pre;overflow-x:auto;line-height:normal;font-family:Menlo,'DejaVu Sans Mono',consolas,'Courier New',monospace\"><span style=\"font-weight: bold\"> Total params: </span><span style=\"color: #00af00; text-decoration-color: #00af00\">3,298,309</span> (12.58 MB)\n",
       "</pre>\n"
      ],
      "text/plain": [
       "\u001b[1m Total params: \u001b[0m\u001b[38;5;34m3,298,309\u001b[0m (12.58 MB)\n"
      ]
     },
     "metadata": {},
     "output_type": "display_data"
    },
    {
     "data": {
      "text/html": [
       "<pre style=\"white-space:pre;overflow-x:auto;line-height:normal;font-family:Menlo,'DejaVu Sans Mono',consolas,'Courier New',monospace\"><span style=\"font-weight: bold\"> Trainable params: </span><span style=\"color: #00af00; text-decoration-color: #00af00\">3,298,309</span> (12.58 MB)\n",
       "</pre>\n"
      ],
      "text/plain": [
       "\u001b[1m Trainable params: \u001b[0m\u001b[38;5;34m3,298,309\u001b[0m (12.58 MB)\n"
      ]
     },
     "metadata": {},
     "output_type": "display_data"
    },
    {
     "data": {
      "text/html": [
       "<pre style=\"white-space:pre;overflow-x:auto;line-height:normal;font-family:Menlo,'DejaVu Sans Mono',consolas,'Courier New',monospace\"><span style=\"font-weight: bold\"> Non-trainable params: </span><span style=\"color: #00af00; text-decoration-color: #00af00\">0</span> (0.00 B)\n",
       "</pre>\n"
      ],
      "text/plain": [
       "\u001b[1m Non-trainable params: \u001b[0m\u001b[38;5;34m0\u001b[0m (0.00 B)\n"
      ]
     },
     "metadata": {},
     "output_type": "display_data"
    }
   ],
   "source": [
    "import tensorflow as tf\n",
    "from tensorflow.keras.models import Model\n",
    "from tensorflow.keras.layers import Input, Conv2D, MaxPooling2D, UpSampling2D, Flatten, Dense\n",
    "\n",
    "# Denoising CNN (Autoencoder)\n",
    "def build_denoise_cnn(input_shape):\n",
    "    input_img = Input(shape=input_shape)\n",
    "    # Encoder\n",
    "    x = Conv2D(32, (3, 3), activation='relu', padding='same')(input_img)\n",
    "    x = MaxPooling2D((2, 2), padding='same')(x)\n",
    "    # Decoder\n",
    "    x = Conv2D(32, (3, 3), activation='relu', padding='same')(x)\n",
    "    x = UpSampling2D((2, 2))(x)\n",
    "    # Output\n",
    "    decoded = Conv2D(input_shape[2], (3, 3), activation='sigmoid', padding='same')(x)\n",
    "    denoise_model = Model(inputs=input_img, outputs=decoded)\n",
    "    return denoise_model\n",
    "\n",
    "# Object Detection CNN\n",
    "def build_object_detection_cnn(input_shape):\n",
    "    input_img = Input(shape=input_shape)\n",
    "    x = Conv2D(64, (3, 3), activation='relu')(input_img)\n",
    "    x = MaxPooling2D((2, 2))(x)\n",
    "    x = Conv2D(128, (3, 3), activation='relu')(x)\n",
    "    x = MaxPooling2D((2, 2))(x)\n",
    "    x = Flatten()(x)\n",
    "    x = Dense(128, activation='relu')(x)\n",
    "    output = Dense(2, activation='softmax')(x)\n",
    "    detection_model = Model(inputs=input_img, outputs=output)\n",
    "    return detection_model\n",
    "\n",
    "# Combine Denoising and Object Detection into a Hybrid Model\n",
    "def build_hybrid_model(input_shape):\n",
    "    # Build the denoising model\n",
    "    denoise_model = build_denoise_cnn(input_shape)\n",
    "    # Build the object detection model\n",
    "    detection_model = build_object_detection_cnn(input_shape)\n",
    "    # Input layer\n",
    "    input_img = Input(shape=input_shape)\n",
    "    # Pass the input through the denoising model\n",
    "    denoised_img = denoise_model(input_img)\n",
    "    # Pass the denoised image to the detection model\n",
    "    output = detection_model(denoised_img)\n",
    "    # Hybrid model\n",
    "    hybrid_model = Model(inputs=input_img, outputs=output)\n",
    "    return hybrid_model\n",
    "\n",
    "# Define input shape\n",
    "input_shape = (64, 64, 3)\n",
    "\n",
    "# Build the hybrid model\n",
    "hybrid_model = build_hybrid_model(input_shape)\n",
    "\n",
    "# Compile the model\n",
    "hybrid_model.compile(optimizer='adam', loss='categorical_crossentropy', metrics=['accuracy'])\n",
    "\n",
    "# Display the model summary\n",
    "hybrid_model.summary()"
   ]
  },
  {
   "cell_type": "markdown",
   "metadata": {},
   "source": [
    "### Train the model"
   ]
  },
  {
   "cell_type": "code",
   "execution_count": null,
   "metadata": {},
   "outputs": [
    {
     "name": "stdout",
     "output_type": "stream",
     "text": [
      "Epoch 1/50\n"
     ]
    },
    {
     "name": "stderr",
     "output_type": "stream",
     "text": [
      "2024-10-30 15:45:32.190289: I tensorflow/core/grappler/optimizers/custom_graph_optimizer_registry.cc:117] Plugin optimizer for device_type GPU is enabled.\n"
     ]
    },
    {
     "name": "stdout",
     "output_type": "stream",
     "text": [
      "\u001b[1m 51/161\u001b[0m \u001b[32m━━━━━━\u001b[0m\u001b[37m━━━━━━━━━━━━━━\u001b[0m \u001b[1m27:51\u001b[0m 15s/step - accuracy: 0.5502 - loss: 0.8903"
     ]
    }
   ],
   "source": [
    "# Ensure the model is defined by running the cell where the model is created and compiled\n",
    "history = hybrid_model.fit(\n",
    "    X_train, y_train,\n",
    "    epochs=50,\n",
    "    batch_size=32,\n",
    "    validation_data=(X_val, y_val),\n",
    "    verbose=1\n",
    ")"
   ]
  },
  {
   "cell_type": "code",
   "execution_count": null,
   "metadata": {},
   "outputs": [],
   "source": [
    "     def build_denoise_cnn(input_shape):\n",
    "         input_img = Input(shape=input_shape)\n",
    "\n",
    "         # Encoder\n",
    "         x = Conv2D(64, (3, 3), activation='relu', padding='same')(input_img)\n",
    "         x = MaxPooling2D((2, 2), padding='same')(x)\n",
    "         x = Conv2D(128, (3, 3), activation='relu', padding='same')(x)\n",
    "         x = MaxPooling2D((2, 2), padding='same')(x)\n",
    "\n",
    "         # Decoder\n",
    "         x = Conv2D(128, (3, 3), activation='relu', padding='same')(x)\n",
    "         x = UpSampling2D((2, 2))(x)\n",
    "         x = Conv2D(64, (3, 3), activation='relu', padding='same')(x)\n",
    "         x = UpSampling2D((2, 2))(x)\n",
    "\n",
    "         # Output\n",
    "         decoded = Conv2D(input_shape[2], (3, 3), activation='sigmoid', padding='same')(x)\n",
    "\n",
    "         denoise_model = Model(inputs=input_img, outputs=decoded)\n",
    "         return denoise_model\n",
    "     \n",
    "      # Enhancing the Object Detection CNN:\n",
    "\n",
    "     def build_detection_cnn(input_shape):\n",
    "         input_img = Input(shape=input_shape)\n",
    "         x = Conv2D(64, (3, 3), activation='relu')(input_img)\n",
    "         x = BatchNormalization()(x)\n",
    "         x = MaxPooling2D((2, 2))(x)\n",
    "         x = Conv2D(128, (3, 3), activation='relu')(x)\n",
    "         x = BatchNormalization()(x)\n",
    "         x = MaxPooling2D((2, 2))(x)\n",
    "         x = Flatten()(x)\n",
    "         x = Dense(256, activation='relu')(x)\n",
    "         x = Dropout(0.5)(x)\n",
    "         output = Dense(2, activation='softmax')(x)\n",
    "         detection_model = Model(inputs=input_img, outputs=output)\n",
    "         return detection_model\n",
    "\n",
    "    # Using a Pre-trained Model for Detection\n",
    "\n",
    "     from tensorflow.keras.applications import ResNet50\n",
    "\n",
    "     def build_detection_cnn(input_shape):\n",
    "         base_model = ResNet50(weights='imagenet', include_top=False, input_shape=input_shape)\n",
    "         base_model.trainable = False  # Freeze base model\n",
    "\n",
    "         x = base_model.output\n",
    "         x = Flatten()(x)\n",
    "         x = Dense(256, activation='relu')(x)\n",
    "         x = Dropout(0.5)(x)\n",
    "         output = Dense(2, activation='softmax')(x)\n",
    "\n",
    "         detection_model = Model(inputs=base_model.input, outputs=output)\n",
    "         return detection_model\n",
    "\n",
    "# Building the Hybrid Model:\n",
    "\n",
    "   def build_hybrid_model(input_shape):\n",
    "       denoise_model = build_denoise_cnn(input_shape)\n",
    "       detection_model = build_detection_cnn(input_shape)\n",
    "\n",
    "       input_img = Input(shape=input_shape)\n",
    "       denoised_img = denoise_model(input_img)\n",
    "       output = detection_model(denoised_img)\n",
    "\n",
    "       hybrid_model = Model(inputs=input_img, outputs=output)\n",
    "       return hybrid_model\n",
    "\n",
    "   # Instantiate and compile the hybrid model\n",
    "   hybrid_model = build_hybrid_model((64, 64, 3))\n",
    "   hybrid_model.compile(optimizer='adam', loss='categorical_crossentropy', metrics=['accuracy'])\n"
   ]
  }
 ],
 "metadata": {
  "kernelspec": {
   "display_name": ".venv",
   "language": "python",
   "name": "python3"
  },
  "language_info": {
   "codemirror_mode": {
    "name": "ipython",
    "version": 3
   },
   "file_extension": ".py",
   "mimetype": "text/x-python",
   "name": "python",
   "nbconvert_exporter": "python",
   "pygments_lexer": "ipython3",
   "version": "3.9.6"
  }
 },
 "nbformat": 4,
 "nbformat_minor": 2
}
